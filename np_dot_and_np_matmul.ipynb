{
  "nbformat": 4,
  "nbformat_minor": 0,
  "metadata": {
    "colab": {
      "name": "np.dot and np.matmul.ipynb",
      "provenance": [],
      "collapsed_sections": []
    },
    "kernelspec": {
      "name": "python3",
      "display_name": "Python 3"
    }
  },
  "cells": [
    {
      "cell_type": "code",
      "metadata": {
        "id": "-WfehZvsZ9n3",
        "colab_type": "code",
        "colab": {}
      },
      "source": [
        "import numpy as np"
      ],
      "execution_count": 2,
      "outputs": []
    },
    {
      "cell_type": "code",
      "metadata": {
        "id": "FI7sh0w9hyNY",
        "colab_type": "code",
        "colab": {}
      },
      "source": [
        "A = np.ones((2,2))\n",
        "B = np.ones((2,2))"
      ],
      "execution_count": 3,
      "outputs": []
    },
    {
      "cell_type": "markdown",
      "metadata": {
        "id": "mzc0U2WIubW1",
        "colab_type": "text"
      },
      "source": [
        "## A is two dimensional vector (2,2) and B is two dimensional vector (2, 2)\n",
        "\n",
        "---\n"
      ]
    },
    {
      "cell_type": "code",
      "metadata": {
        "id": "vihXhQ8-imAE",
        "colab_type": "code",
        "colab": {}
      },
      "source": [
        "A = np.array([[1, 2], [3, 4]])\n",
        "B = np.array([[5, 6], [7, 8]])"
      ],
      "execution_count": 5,
      "outputs": []
    },
    {
      "cell_type": "markdown",
      "metadata": {
        "id": "nE_gfHWDjXnj",
        "colab_type": "text"
      },
      "source": [
        "$$ A = \\begin{bmatrix} \n",
        "1 & 2 \\\\\n",
        "3 & 4 \\\\\n",
        "\\end{bmatrix}\n",
        "\\quad \n",
        "B = \\begin{bmatrix} \n",
        "5 & 6 \\\\\n",
        "7 & 8 \\\\\n",
        "\\end{bmatrix}\n",
        "\\quad\n",
        "$$\n",
        "\n",
        "\n"
      ]
    },
    {
      "cell_type": "markdown",
      "metadata": {
        "id": "EZTEOC-UjiV2",
        "colab_type": "text"
      },
      "source": [
        "np.matmul and np.dot\n",
        "$ \\begin{bmatrix} \n",
        "1 x 5 + 2 x 7 & 1 x 6 + 2 x 8 \\\\\n",
        "3 x 5 + 4 x 7 & 3 x 6 + 4 x 8\\\\\n",
        "\\end{bmatrix}$ = $\\begin{bmatrix} \n",
        "19 & 22 \\\\\n",
        "43 & 50\\\\\n",
        "\\end{bmatrix}$"
      ]
    },
    {
      "cell_type": "markdown",
      "metadata": {
        "id": "MBRZ8IQNqdVm",
        "colab_type": "text"
      },
      "source": [
        "A * B = $ \\begin{bmatrix} \n",
        "1 x 5 & 2 x 6 \\\\\n",
        "3 x 7 & 4 x 8\\\\\n",
        "\\end{bmatrix}$ = $ \\begin{bmatrix} \n",
        "5 & 12 \\\\\n",
        "21 & 32\\\\\n",
        "\\end{bmatrix}$"
      ]
    },
    {
      "cell_type": "code",
      "metadata": {
        "id": "f3omq_hfh6hI",
        "colab_type": "code",
        "colab": {
          "base_uri": "https://localhost:8080/",
          "height": 442
        },
        "outputId": "699c12f8-0116-48c5-d2ea-f97765489ecb"
      },
      "source": [
        "C = np.matmul(A, B)\n",
        "D = np.dot(A, B)\n",
        "E = A * B\n",
        "\n",
        "print('A: \\n', A)\n",
        "print('A.shape: \\n', A.shape)\n",
        "print('B: \\n', B)\n",
        "print('B.shape: \\n', B.shape)\n",
        "print('C: \\n', C)\n",
        "print('C.shape: \\n', C.shape)\n",
        "print('D: \\n', D)\n",
        "print('D.shape: \\n', D.shape)\n",
        "print('E: \\n', E)\n",
        "print('E.shape: \\n', E.shape)"
      ],
      "execution_count": 6,
      "outputs": [
        {
          "output_type": "stream",
          "text": [
            "A: \n",
            " [[1 2]\n",
            " [3 4]]\n",
            "A.shape: \n",
            " (2, 2)\n",
            "B: \n",
            " [[5 6]\n",
            " [7 8]]\n",
            "B.shape: \n",
            " (2, 2)\n",
            "C: \n",
            " [[19 22]\n",
            " [43 50]]\n",
            "C.shape: \n",
            " (2, 2)\n",
            "D: \n",
            " [[19 22]\n",
            " [43 50]]\n",
            "D.shape: \n",
            " (2, 2)\n",
            "E: \n",
            " [[ 5 12]\n",
            " [21 32]]\n",
            "E.shape: \n",
            " (2, 2)\n"
          ],
          "name": "stdout"
        }
      ]
    },
    {
      "cell_type": "markdown",
      "metadata": {
        "id": "GwtAaa2lrjRW",
        "colab_type": "text"
      },
      "source": [
        "## A is one dimensional vector (1,2) and B is two dimensional vector (2, 2)\n",
        "\n",
        "---\n",
        "\n"
      ]
    },
    {
      "cell_type": "markdown",
      "metadata": {
        "id": "mCFiq_eQtYEz",
        "colab_type": "text"
      },
      "source": [
        "$$ A = \\begin{bmatrix} \n",
        "1 & 2 \\\\\n",
        "\\end{bmatrix}\n",
        "\\quad \n",
        "B = \\begin{bmatrix} \n",
        "5 & 6 \\\\\n",
        "7 & 8 \\\\\n",
        "\\end{bmatrix}\n",
        "\\quad\n",
        "$$"
      ]
    },
    {
      "cell_type": "markdown",
      "metadata": {
        "id": "LY6jFPWgtki_",
        "colab_type": "text"
      },
      "source": [
        "np.matmul and np.dot\n",
        "$ \\begin{bmatrix} \n",
        "1 x 5 + 2 x 7 & 1 x 6 + 2 x 8 \\\\\n",
        "\\end{bmatrix}$ = $\\begin{bmatrix} \n",
        "19 & 22 \\\\\n",
        "\\end{bmatrix}$"
      ]
    },
    {
      "cell_type": "markdown",
      "metadata": {
        "id": "WDwKZ_iKtpNM",
        "colab_type": "text"
      },
      "source": [
        "A * B = $ \\begin{bmatrix} \n",
        "1 x 5 & 2 x 6 \\\\\n",
        "1 x 7 & 2 x 8\\\\\n",
        "\\end{bmatrix}$ = $ \\begin{bmatrix} \n",
        "5 & 12 \\\\\n",
        "7 & 16\\\\\n",
        "\\end{bmatrix}$"
      ]
    },
    {
      "cell_type": "code",
      "metadata": {
        "id": "T0f-_bD6rxKX",
        "colab_type": "code",
        "colab": {}
      },
      "source": [
        "A = np.array([1, 2])\n",
        "B = np.array([[5, 6], [7, 8]])"
      ],
      "execution_count": 4,
      "outputs": []
    },
    {
      "cell_type": "code",
      "metadata": {
        "id": "SRG7Trepr2mN",
        "colab_type": "code",
        "colab": {
          "base_uri": "https://localhost:8080/",
          "height": 51
        },
        "outputId": "9d0901a3-6984-4d69-f225-b8a4f20fecf9"
      },
      "source": [
        "print(A.shape)\n",
        "print(B.shape)"
      ],
      "execution_count": 5,
      "outputs": [
        {
          "output_type": "stream",
          "text": [
            "(2,)\n",
            "(2, 2)\n"
          ],
          "name": "stdout"
        }
      ]
    },
    {
      "cell_type": "code",
      "metadata": {
        "id": "zZbjc3DksCxW",
        "colab_type": "code",
        "colab": {
          "base_uri": "https://localhost:8080/",
          "height": 391
        },
        "outputId": "4bc22156-c018-4c9c-8b61-559642459c6f"
      },
      "source": [
        "C = np.matmul(A, B)\n",
        "D = np.dot(A, B)\n",
        "E = A * B\n",
        "\n",
        "print('A: \\n', A)\n",
        "print('A.shape: \\n', A.shape)\n",
        "print('B: \\n', B)\n",
        "print('B.shape: \\n', B.shape)\n",
        "print('C: \\n', C)\n",
        "print('C.shape: \\n', C.shape)\n",
        "print('D: \\n', D)\n",
        "print('D.shape: \\n', D.shape)\n",
        "print('E: \\n', E)\n",
        "print('E.shape: \\n', E.shape)"
      ],
      "execution_count": 6,
      "outputs": [
        {
          "output_type": "stream",
          "text": [
            "A: \n",
            " [1 2]\n",
            "A.shape: \n",
            " (2,)\n",
            "B: \n",
            " [[5 6]\n",
            " [7 8]]\n",
            "B.shape: \n",
            " (2, 2)\n",
            "C: \n",
            " [19 22]\n",
            "C.shape: \n",
            " (2,)\n",
            "D: \n",
            " [19 22]\n",
            "D.shape: \n",
            " (2,)\n",
            "E: \n",
            " [[ 5 12]\n",
            " [ 7 16]]\n",
            "E.shape: \n",
            " (2, 2)\n"
          ],
          "name": "stdout"
        }
      ]
    },
    {
      "cell_type": "code",
      "metadata": {
        "id": "8WxFTCkbvN_4",
        "colab_type": "code",
        "colab": {}
      },
      "source": [
        "A = np.array([[1.],[2.]])\n",
        "const_scalar =  2.\n",
        "B  = np.array([[1.,2.,-1.],[3.,4.,-3.2]])"
      ],
      "execution_count": 7,
      "outputs": []
    },
    {
      "cell_type": "code",
      "metadata": {
        "id": "GQJ56BdWvNtw",
        "colab_type": "code",
        "colab": {
          "base_uri": "https://localhost:8080/",
          "height": 323
        },
        "outputId": "adf20815-bf3d-4c8f-860c-b5f9f1160680"
      },
      "source": [
        "C = np.dot(A.T, B)  \n",
        "#C = np.dot(B.T, A)        \n",
        "D = np.matmul(A.T, B)\n",
        "#D = np.matmul(A.T, B)\n",
        "\n",
        "print('A: \\n', A)\n",
        "print('A.shape: \\n', A.shape)\n",
        "print('B: \\n', B)\n",
        "print('B.shape: \\n', B.shape)\n",
        "print('C: \\n', C)\n",
        "print('C.shape: \\n', C.shape)\n",
        "print('D: \\n', D)\n",
        "print('D.shape: \\n', D.shape)\n",
        "#print('E: \\n', E)\n",
        "#print('E.shape: \\n', E.shape)\n",
        "\n",
        "#A_DOT = sigmoid(np.dot(X.T, w) + b)                                   \n",
        "#A_MAT = sigmoid(np.matmul(w.T, X) + b)                       "
      ],
      "execution_count": 12,
      "outputs": [
        {
          "output_type": "stream",
          "text": [
            "A: \n",
            " [[1.]\n",
            " [2.]]\n",
            "A.shape: \n",
            " (2, 1)\n",
            "B: \n",
            " [[ 1.   2.  -1. ]\n",
            " [ 3.   4.  -3.2]]\n",
            "B.shape: \n",
            " (2, 3)\n",
            "C: \n",
            " [[ 7.  10.  -7.4]]\n",
            "C.shape: \n",
            " (1, 3)\n",
            "D: \n",
            " [[ 7.  10.  -7.4]]\n",
            "D.shape: \n",
            " (1, 3)\n"
          ],
          "name": "stdout"
        }
      ]
    },
    {
      "cell_type": "code",
      "metadata": {
        "id": "1OCjlQBsIu_5",
        "colab_type": "code",
        "colab": {}
      },
      "source": [
        "A = np.array([[1.],[2.]])\n",
        "const_scalar =  2.\n",
        "B  = np.array([[[1.,2.,-1.],[3.,4.,-3.2]], [[1.,2.,-1.],[3.,4.,-3.2]]])"
      ],
      "execution_count": 3,
      "outputs": []
    },
    {
      "cell_type": "code",
      "metadata": {
        "id": "k_I53b8WI9bv",
        "colab_type": "code",
        "colab": {
          "base_uri": "https://localhost:8080/",
          "height": 119
        },
        "outputId": "3ef631bd-635d-4b4f-d144-426562d243a0"
      },
      "source": [
        "print(B.shape)\n",
        "print(B)"
      ],
      "execution_count": 4,
      "outputs": [
        {
          "output_type": "stream",
          "text": [
            "(2, 2, 3)\n",
            "[[[ 1.   2.  -1. ]\n",
            "  [ 3.   4.  -3.2]]\n",
            "\n",
            " [[ 1.   2.  -1. ]\n",
            "  [ 3.   4.  -3.2]]]\n"
          ],
          "name": "stdout"
        }
      ]
    },
    {
      "cell_type": "code",
      "metadata": {
        "id": "nj4aA436JFp4",
        "colab_type": "code",
        "colab": {
          "base_uri": "https://localhost:8080/",
          "height": 425
        },
        "outputId": "b078e80f-5fc9-42ab-ed1e-129edcbc0286"
      },
      "source": [
        "C = np.dot(A.T, B)  \n",
        "#C = np.dot(B.T, A)        \n",
        "D = np.matmul(A.T, B)\n",
        "#D = np.matmul(A.T, B)\n",
        "\n",
        "print('A: \\n', A)\n",
        "print('A.shape: \\n', A.shape)\n",
        "print('B: \\n', B)\n",
        "print('B.shape: \\n', B.shape)\n",
        "print('C: \\n', C)\n",
        "print('C.shape: \\n', C.shape)\n",
        "print('D: \\n', D)\n",
        "print('D.shape: \\n', D.shape)\n",
        "#print('E: \\n', E)\n",
        "#print('E.shape: \\n', E.shape)\n",
        "\n",
        "#A_DOT = sigmoid(np.dot(X.T, w) + b)                                   \n",
        "#A_MAT = sigmoid(np.matmul(w.T, X) + b)     "
      ],
      "execution_count": 5,
      "outputs": [
        {
          "output_type": "stream",
          "text": [
            "A: \n",
            " [[1.]\n",
            " [2.]]\n",
            "A.shape: \n",
            " (2, 1)\n",
            "B: \n",
            " [[[ 1.   2.  -1. ]\n",
            "  [ 3.   4.  -3.2]]\n",
            "\n",
            " [[ 1.   2.  -1. ]\n",
            "  [ 3.   4.  -3.2]]]\n",
            "B.shape: \n",
            " (2, 2, 3)\n",
            "C: \n",
            " [[[ 7.  10.  -7.4]\n",
            "  [ 7.  10.  -7.4]]]\n",
            "C.shape: \n",
            " (1, 2, 3)\n",
            "D: \n",
            " [[[ 7.  10.  -7.4]]\n",
            "\n",
            " [[ 7.  10.  -7.4]]]\n",
            "D.shape: \n",
            " (2, 1, 3)\n"
          ],
          "name": "stdout"
        }
      ]
    }
  ]
}